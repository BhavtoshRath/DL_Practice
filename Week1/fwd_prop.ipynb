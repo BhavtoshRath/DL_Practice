{
 "cells": [
  {
   "cell_type": "markdown",
   "metadata": {},
   "source": [
    "### **🔹 Understanding Forward Propagation**\n",
    "Forward propagation is the process where:\n",
    "1. Inputs are passed through the network layer by layer.\n",
    "2. Each layer applies weights and biases.\n",
    "3. The activation function transforms the weighted sum.\n",
    "4. The final output is produced.\n",
    "\n",
    "---\n",
    "\n",
    "### **🔹 Implementation Steps**\n",
    "- Input Layer: \\( X \\)\n",
    "- Hidden Layer: \\( W_1, b_1 \\) (weights and bias)\n",
    "- Activation Function: ReLU or Sigmoid\n",
    "- Output Layer: \\( W_2, b_2 \\)\n",
    "- Final Activation: Softmax (for classification) or Sigmoid (for binary classification)\n",
    "\n",
    "---"
   ]
  },
  {
   "cell_type": "code",
   "execution_count": 1,
   "metadata": {},
   "outputs": [
    {
     "name": "stdout",
     "output_type": "stream",
     "text": [
      "Output probabilities:\n",
      " [[0.65205329 0.12087798]\n",
      " [0.01700354 0.01741787]\n",
      " [0.13569211 0.05695521]]\n"
     ]
    }
   ],
   "source": [
    "# Numpy implementation\n",
    "\n",
    "import numpy as np\n",
    "\n",
    "def relu(x):\n",
    "    return np.maximum(0, x)\n",
    "\n",
    "def softmax(x):\n",
    "    return np.exp(x)/ np.sum(np.exp(x))\n",
    "\n",
    "# Sample input (2 features, batch size = 3)\n",
    "X = np.array([[0.5, 1.2],\n",
    "              [1.0, -0.7],\n",
    "              [-0.3, 0.8]])\n",
    "\n",
    "\n",
    "# Define network parameters\n",
    "np.random.seed(42)\n",
    "W1 = np.random.randn(2, 3) # Weights for layer 1 (2 inputs -> 3 hidden neurons)\n",
    "b1 = np.zeros((1, 3)) # Biases for layer 1\n",
    "W2 = np.random.randn(3, 2) # Weights for layer 2 (3 hidden -> 2 output neurons)\n",
    "b2 = np.zeros((1, 2)) # Biases for layer 2\n",
    "\n",
    "# Forward propagation\n",
    "Z1 = np.dot(X, W1) + b1\n",
    "A1 = relu(Z1)\n",
    "Z2 = np.dot(A1, W2) + b2\n",
    "A2 = softmax(Z2)\n",
    "\n",
    "print(\"Output probabilities:\\n\", A2)"
   ]
  },
  {
   "cell_type": "code",
   "execution_count": 2,
   "metadata": {},
   "outputs": [
    {
     "name": "stdout",
     "output_type": "stream",
     "text": [
      "Output Probabilities:\n",
      " tensor([[0.5877, 0.5993],\n",
      "        [0.5500, 0.6359],\n",
      "        [0.5877, 0.5993]], grad_fn=<SigmoidBackward0>)\n"
     ]
    }
   ],
   "source": [
    "# Torch implementation\n",
    "\n",
    "import torch\n",
    "import torch.nn as nn\n",
    "import torch.nn.functional as F\n",
    "\n",
    "\n",
    "class SimpleNN(nn.Module):\n",
    "    def __init__(self, input_size, hidden_size, output_size):\n",
    "        super(SimpleNN, self).__init__()\n",
    "        self.fc1 = nn.Linear(input_size, hidden_size) # First layer\n",
    "        self.fc2 = nn.Linear(hidden_size, output_size) # Second layer\n",
    "\n",
    "    def forward(self, x):\n",
    "        z1 = self.fc1(x)\n",
    "        a1 = F.relu(z1)\n",
    "        z2 = self.fc2(a1)\n",
    "        a2 = torch.sigmoid(z2)\n",
    "        return a2\n",
    "\n",
    "\n",
    "input_size = 2\n",
    "hidden_size = 3\n",
    "output_size = 2\n",
    "\n",
    "model = SimpleNN(input_size, hidden_size, output_size)\n",
    "\n",
    "# Sample Input Data (Batch of 3 samples, each with 2 features)\n",
    "X = torch.tensor([[0.5, 1.2],\n",
    "                  [1.0, -0.7],\n",
    "                  [-0.3, 0.8]], dtype=torch.float32)\n",
    "\n",
    "output = model(X)\n",
    "print(\"Output Probabilities:\\n\", output)"
   ]
  },
  {
   "cell_type": "code",
   "execution_count": null,
   "metadata": {},
   "outputs": [],
   "source": []
  }
 ],
 "metadata": {
  "kernelspec": {
   "display_name": "env1",
   "language": "python",
   "name": "env1"
  },
  "language_info": {
   "codemirror_mode": {
    "name": "ipython",
    "version": 3
   },
   "file_extension": ".py",
   "mimetype": "text/x-python",
   "name": "python",
   "nbconvert_exporter": "python",
   "pygments_lexer": "ipython3",
   "version": "3.9.21"
  }
 },
 "nbformat": 4,
 "nbformat_minor": 4
}
